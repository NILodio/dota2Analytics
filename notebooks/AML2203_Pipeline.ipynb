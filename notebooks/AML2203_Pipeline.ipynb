{
 "cells": [
  {
   "cell_type": "code",
   "execution_count": 29,
   "id": "2d274260-013f-432e-ab17-9c6dbff9fd71",
   "metadata": {
    "tags": []
   },
   "outputs": [],
   "source": [
    "# import only required libraries\n",
    "import pandas as pd\n",
    "import numpy as np\n",
    "import pickle\n",
    "from sklearn.preprocessing import StandardScaler\n",
    "from sklearn.preprocessing import PolynomialFeatures\n",
    "# function to identify numerical columns within a dataframe\n",
    "def get_numerical_columns(df):\n",
    "    numeric_types = ['int16', 'int32', 'int64', 'float16', 'float32', 'float64'] # set all numeric types\n",
    "    return df.select_dtypes(include=numeric_types).columns.to_list() # return numeric columns as a list\n",
    "\n",
    "# function to apply log transformation technique on dataset\n",
    "def apply_log_transformation(df_original):\n",
    "    df = df_original.copy() # get a copy of the dataset\n",
    "    for column in df.columns.to_list(): # apply log transformation to all columns\n",
    "        df[column] = df[column].map(lambda value : np.log(value) if value > 0 else 0)\n",
    "    return df\n",
    "\n",
    "# function to scale an entire dataset, returns only numeric columns scaled\n",
    "def standard_scale_dataset(df, scaler_path):\n",
    "    # get numerical columns\n",
    "    numerical_columns = get_numerical_columns(df)\n",
    "    scaler = load_model(scaler_path) # load the Standard Scaler\n",
    "    \n",
    "    df_numeric = df[numerical_columns]\n",
    "    df_scaled = scaler.transform(df_numeric.to_numpy())\n",
    "    df_scaled = pd.DataFrame(df_scaled, columns=df_numeric.columns.to_list())\n",
    "    return df_scaled\n",
    "\n",
    "# function to extract polynomial features from a dataset\n",
    "def extract_polynomial_features(df, degree=2, test_size=0.3):\n",
    "    polynomial = PolynomialFeatures(degree=degree, include_bias=False, interaction_only=False)\n",
    "    features_polynomial = polynomial.fit_transform(df) # x = df, there's no y\n",
    "    return pd.DataFrame(features_polynomial)\n",
    "\n",
    "# function to load a model from a pickle file\n",
    "def load_model(path):\n",
    "    return pickle.load(open(path, 'rb'))"
   ]
  },
  {
   "cell_type": "code",
   "execution_count": 30,
   "id": "f9a9b47d-8523-4707-8731-51780eacb5f9",
   "metadata": {
    "tags": []
   },
   "outputs": [
    {
     "data": {
      "text/html": [
       "<div>\n",
       "<style scoped>\n",
       "    .dataframe tbody tr th:only-of-type {\n",
       "        vertical-align: middle;\n",
       "    }\n",
       "\n",
       "    .dataframe tbody tr th {\n",
       "        vertical-align: top;\n",
       "    }\n",
       "\n",
       "    .dataframe thead th {\n",
       "        text-align: right;\n",
       "    }\n",
       "</style>\n",
       "<table border=\"1\" class=\"dataframe\">\n",
       "  <thead>\n",
       "    <tr style=\"text-align: right;\">\n",
       "      <th></th>\n",
       "      <th>team1_rating</th>\n",
       "      <th>team2_rating</th>\n",
       "      <th>team1_hero3_wins</th>\n",
       "      <th>team1_hero5_wins</th>\n",
       "      <th>team2_hero1_wins</th>\n",
       "      <th>team2_hero2_wins</th>\n",
       "      <th>team2_hero3_wins</th>\n",
       "      <th>team2_hero4_wins</th>\n",
       "      <th>team2_hero5_wins</th>\n",
       "    </tr>\n",
       "  </thead>\n",
       "  <tbody>\n",
       "    <tr>\n",
       "      <th>0</th>\n",
       "      <td>1441.97</td>\n",
       "      <td>1035.8</td>\n",
       "      <td>950</td>\n",
       "      <td>950</td>\n",
       "      <td>0</td>\n",
       "      <td>0</td>\n",
       "      <td>0</td>\n",
       "      <td>0</td>\n",
       "      <td>0</td>\n",
       "    </tr>\n",
       "  </tbody>\n",
       "</table>\n",
       "</div>"
      ],
      "text/plain": [
       "   team1_rating  team2_rating  team1_hero3_wins  team1_hero5_wins  \\\n",
       "0       1441.97        1035.8               950               950   \n",
       "\n",
       "   team2_hero1_wins  team2_hero2_wins  team2_hero3_wins  team2_hero4_wins  \\\n",
       "0                 0                 0                 0                 0   \n",
       "\n",
       "   team2_hero5_wins  \n",
       "0                 0  "
      ]
     },
     "metadata": {},
     "output_type": "display_data"
    },
    {
     "data": {
      "text/plain": [
       "array([1], dtype=int64)"
      ]
     },
     "execution_count": 30,
     "metadata": {},
     "output_type": "execute_result"
    }
   ],
   "source": [
    "def make_prediction(df, model_path, scaler_path):\n",
    "    \n",
    "    df = apply_log_transformation(df) # apply log transformation on columns with outliers\n",
    "    \n",
    "    df_scaled = standard_scale_dataset(df, scaler_path) # apply standard scaling to the dataset (excludes non-numeric columns)\n",
    "    \n",
    "    complex_df = extract_polynomial_features(df_scaled, degree=2) # extract polynomial features\n",
    "    \n",
    "    model = load_model(model_path) # load the model\n",
    "    \n",
    "    y_pred = model.predict(complex_df) # predict the new data target\n",
    "    \n",
    "    return y_pred\n",
    "\n",
    "data = [[1441.97, 1035.8, 950, 950, 0, 0, 0, 0, 0]]\n",
    "columns = ['team1_rating', 'team2_rating', 'team1_hero3_wins', 'team1_hero5_wins', 'team2_hero1_wins',\n",
    "           'team2_hero2_wins', 'team2_hero3_wins', 'team2_hero4_wins', 'team2_hero5_wins']\n",
    "df_test = pd.DataFrame(data=data, columns=columns)\n",
    "display(df_test)\n",
    "\n",
    "model_path = '3_GradientBoostingClassifier.pkl'\n",
    "scaler_path = 'StandardScaler.pkl'\n",
    "\n",
    "make_prediction(df_test, model_path, scaler_path)"
   ]
  }
 ],
 "metadata": {
  "kernelspec": {
   "display_name": "Python 3 (ipykernel)",
   "language": "python",
   "name": "python3"
  },
  "language_info": {
   "codemirror_mode": {
    "name": "ipython",
    "version": 3
   },
   "file_extension": ".py",
   "mimetype": "text/x-python",
   "name": "python",
   "nbconvert_exporter": "python",
   "pygments_lexer": "ipython3",
   "version": "3.11.4"
  }
 },
 "nbformat": 4,
 "nbformat_minor": 5
}
