{
 "cells": [
  {
   "cell_type": "code",
   "execution_count": 19,
   "id": "2d274260-013f-432e-ab17-9c6dbff9fd71",
   "metadata": {
    "tags": []
   },
   "outputs": [],
   "source": [
    "# import only required libraries\n",
    "import pandas as pd\n",
    "import numpy as np\n",
    "import pickle\n",
    "from sklearn.preprocessing import StandardScaler\n",
    "from sklearn.preprocessing import PolynomialFeatures\n",
    "\n",
    "# function to apply log transformation technique on dataset\n",
    "def apply_log_transformation(df_original):\n",
    "    df = df_original.copy() # get a copy of the dataset\n",
    "    for column in df.columns.to_list(): # apply log transformation to all columns\n",
    "        df[column] = df[column].map(lambda value : np.log(value) if value > 0 else 0)\n",
    "    return df\n",
    "\n",
    "# function to scale an entire dataset, returns only numeric columns scaled\n",
    "def standard_scale_dataset(df):\n",
    "    # get numerical columns\n",
    "    numerical_columns = get_numerical_columns(df)\n",
    "    \n",
    "    # scale the dataset using a StandardScaler\n",
    "    scaler = StandardScaler()\n",
    "    df_numeric = df[numerical_columns]\n",
    "    df_scaled = scaler.fit_transform(df_numeric.to_numpy())\n",
    "    df_scaled = pd.DataFrame(df_scaled, columns=df_numeric.columns.to_list())\n",
    "    return df_scaled\n",
    "\n",
    "# function to extract polynomial features from a dataset\n",
    "def extract_polynomial_features(df, degree=2, test_size=0.3):\n",
    "    polynomial = PolynomialFeatures(degree=degree, include_bias=False, interaction_only=False)\n",
    "    features_polynomial = polynomial.fit_transform(df) # x = df, there's no y\n",
    "    return pd.DataFrame(features_polynomial)\n",
    "\n",
    "# function to load a model from a pickle file\n",
    "def load_model(path):\n",
    "    return pickle.load(open(path, 'rb'))"
   ]
  },
  {
   "cell_type": "code",
   "execution_count": 20,
   "id": "f9a9b47d-8523-4707-8731-51780eacb5f9",
   "metadata": {
    "tags": []
   },
   "outputs": [
    {
     "data": {
      "text/plain": [
       "array([0], dtype=int64)"
      ]
     },
     "execution_count": 20,
     "metadata": {},
     "output_type": "execute_result"
    }
   ],
   "source": [
    "def make_prediction(df, model_path):\n",
    "    \n",
    "    df = apply_log_transformation(df) # apply log transformation on columns with outliers\n",
    "    \n",
    "    df_scaled = standard_scale_dataset(df) # apply standard scaling to the dataset (excludes non-numeric columns)\n",
    "    \n",
    "    complex_df = extract_polynomial_features(df_scaled, degree=2) # extract polynomial features\n",
    "    \n",
    "    model = load_model(model_path) # load the model\n",
    "    \n",
    "    y_pred = model.predict(complex_df) # predict the new data target\n",
    "    \n",
    "    return y_pred\n",
    "\n",
    "df_test = pd.read_csv('test.csv') # load the new data into a dataframe\n",
    "\n",
    "model_path = '3_GradientBoostingClassifier.pkl'\n",
    "\n",
    "make_prediction(df_test, model_path)"
   ]
  },
  {
   "cell_type": "code",
   "execution_count": 18,
   "id": "7f1b9dc9-df19-4fdd-84b5-40e633f2f351",
   "metadata": {
    "tags": []
   },
   "outputs": [
    {
     "data": {
      "text/plain": [
       "['team1_rating',\n",
       " 'team2_rating',\n",
       " 'team1_hero3_wins',\n",
       " 'team1_hero5_wins',\n",
       " 'team2_hero1_wins',\n",
       " 'team2_hero2_wins',\n",
       " 'team2_hero3_wins',\n",
       " 'team2_hero4_wins',\n",
       " 'team2_hero5_wins']"
      ]
     },
     "execution_count": 18,
     "metadata": {},
     "output_type": "execute_result"
    }
   ],
   "source": [
    "# ignore this\n",
    "['team1_hero1',\n",
    " 'team1_hero2',\n",
    " 'team1_hero3',\n",
    " 'team1_hero4',\n",
    " 'team1_hero5',\n",
    " 'team2_hero1',\n",
    " 'team2_hero2',\n",
    " 'team2_hero3',\n",
    " 'team2_hero4',\n",
    " 'team2_hero5',\n",
    " 'team1_id',\n",
    " 'team2_id'\n",
    "]\n",
    "[\n",
    " 'team1_hero1_wins', # discarded\n",
    " 'team1_hero2_wins', # discarded\n",
    " 'team1_hero4_wins', # discarded\n",
    "]\n",
    "[\n",
    " 'team1_rating',\n",
    " 'team2_rating',\n",
    " 'team1_hero3_wins',\n",
    " 'team1_hero5_wins',\n",
    " 'team2_hero1_wins',\n",
    " 'team2_hero2_wins',\n",
    " 'team2_hero3_wins',\n",
    " 'team2_hero4_wins',\n",
    " 'team2_hero5_wins'\n",
    "]"
   ]
  }
 ],
 "metadata": {
  "kernelspec": {
   "display_name": "Python 3 (ipykernel)",
   "language": "python",
   "name": "python3"
  },
  "language_info": {
   "codemirror_mode": {
    "name": "ipython",
    "version": 3
   },
   "file_extension": ".py",
   "mimetype": "text/x-python",
   "name": "python",
   "nbconvert_exporter": "python",
   "pygments_lexer": "ipython3",
   "version": "3.11.4"
  }
 },
 "nbformat": 4,
 "nbformat_minor": 5
}
